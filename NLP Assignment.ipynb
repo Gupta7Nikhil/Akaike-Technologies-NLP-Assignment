{
 "cells": [
  {
   "cell_type": "raw",
   "id": "8641e050",
   "metadata": {},
   "source": [
    "Importing Json file and copying the data"
   ]
  },
  {
   "cell_type": "code",
   "execution_count": 1,
   "id": "45df4a1b",
   "metadata": {},
   "outputs": [],
   "source": [
    "# importing the module\n",
    "import json\n",
    "from typing import List\n",
    "\n"
   ]
  },
  {
   "cell_type": "raw",
   "id": "14e09940",
   "metadata": {},
   "source": [
    "Opening JSON file"
   ]
  },
  {
   "cell_type": "code",
   "execution_count": 2,
   "id": "81d24290",
   "metadata": {},
   "outputs": [
    {
     "name": "stdout",
     "output_type": "stream",
     "text": [
      "Type: <class 'dict'>\n",
      "43347\n"
     ]
    }
   ],
   "source": [
    "# global variables\n",
    "author_1=[]\n",
    "tweet_1=[]\n",
    "# Opening JSON file\n",
    "with open('tweets.json') as json_file:\n",
    "    data = json.load(json_file)\n",
    " \n",
    "    # Print the type of data variable\n",
    "    print(\"Type:\", type(data))\n",
    " \n",
    "    # Print the data of dictionary\n",
    "    lst1= data.keys()\n",
    "    lst2= data.values()\n",
    "    \n",
    "    for i in lst1:\n",
    "        \n",
    "        author_1.append(data[i][\"tweet_author\"])\n",
    "        tweet_1.append( data[i][\"tweet_text\"])\n",
    "    #print(author)\n",
    "    #print(tweet[1:10])\n",
    "print(len(author_1))\n",
    "author=author_1[:1000]\n",
    "tweet=tweet_1[:1000]\n",
    "\n",
    "    "
   ]
  },
  {
   "cell_type": "code",
   "execution_count": 3,
   "id": "5f2e6898",
   "metadata": {},
   "outputs": [],
   "source": [
    "#declaring variables\n",
    "author_name=[]\n",
    "match_statement={}\n",
    "polarity=[]\n",
    "\n",
    "common=[]\n",
    "num=0\n",
    "freq=1"
   ]
  },
  {
   "cell_type": "code",
   "execution_count": 4,
   "id": "cf58030a",
   "metadata": {},
   "outputs": [
    {
     "name": "stdout",
     "output_type": "stream",
     "text": [
      "{'acalabrutinib i': 2, 'acalabrutinib ': 2, 'NICE ': 2, ' of acalabrutinib ': 2, ' CLL ': 2, ' for ': 23, 'AstraZeneca’s Calquence ': 5, 'Acalabrutinib ': 3, ' March 2021': 2, 'e for ': 19, ' of acalabrutinib': 8, ' chronic lymphocytic leuk': 2, 'AstraZeneca’s Calquence for ': 2, ' #CLL ': 4, 'CALQUENCE ': 23, ' Acalabrutinib ': 2, '@NICEComms ': 2, 'Safety and Antitumor Activity of Acalabrutinib for Relapsed/Refractory B-cell Malignancies: A Japanese Phase I Study ': 2, ' study ': 3, 'Calquence': 2, 'Calquence ': 2, ': Acalabrutinib': 18, ' acalabrutinib': 2, ' acalabrutinib in ': 8, '&amp;': 3, ' acalabrutinib ': 4, 'The role of acalabrutinib in adults with chronic lymphocytic leukemia ': 2, 'The role of acalabrutinib in adults with chronic lymphocytic leukemia': 2, 'ts with chronic lymphocytic l': 2, 'calabrutinib ': 3, 'Acalabrutinib a': 3, '$AZN ': 17, ' Acalabrutinib': 4, ' Survival Likely Affected by Reason for Acalabrutinib': 2, 'Acalabrutinib': 5, 'In this ': 2, 'calabrutinib': 11, ' #CLL': 4, 'patients with ': 47, ' chronic lymphocytic': 51, ' Acalabrutinib h': 2, 'AstraZeneca, with new data, claims its leukemia drug is safer than Imbruvica ': 3, ' ELEVATE-RR trial ': 2, 'leukemia drug': 2, ' head-to-head ': 5, ' patients with ': 7, 'AstraZeneca': 14, 'Acalabrutinib Shows Noninferior PFS': 2, ' Chronic Lymphocytic Leukemia': 8, 'Imbruvica ': 3, ' for the treatment of ': 17, '#Astrazeneca reported that #C': 5, 'pproved in Japan for ': 9, ' Imbruvica in ': 5, 'AstraZeneca touts Calquence safety win against Imbruvica in leukemia trial': 2, ' Phase III ': 3, ' Imbruvica': 3, 'brutinib': 3, 'CALQUENCE Met Primary Efficacy Endpoint in Head-to-Head Trial Against ibrutinib in Chronic Lymphocytic Leukemia ': 2, '$AZN $': 2, 'ays Calquence ': 7, ' AstraZeneca ': 2, \"AstraZeneca's Calquence \": 6, 'reatment': 3, 'Calquence met primary efficacy endpoint in ': 3, 's Calquence ': 3, ' lymphocytic leukaemia ': 6, \"AstraZeneca's C\": 2, 'gainst ibrutinib': 6, ' Primary Efficacy Endpoint': 8, ' lymphocytic leukaemia study ': 2, 'CALQUENCE Met Primary Efficacy Endpoint in Head-to-Head Trial Against ibrutinib in Chronic Lymphocytic Leukemia': 2, ' ELEVATE-RR Phase III trial ': 2, '$AZN C': 2, \"AstraZeneca's Calquence successful in lymphocytic leukaemia study \": 3, ' in Japan for ': 4, ' Calquence ': 2, \" Goldman belässt Astrazeneca auf 'Sell' - Ziel 6575 Pence: NEW YORK (dpa-AFX Analyser) - Die US-Investmentbank Goldman Sachs hat die Einstufung für Astrazeneca angesichts positiver Studiendaten mit dem Medikament Calquence zur\": 2, ' chronic lymphocytic leukaemia': 2, 'Calquence approved in Japan for the treatment of relapsed or refractory chronic lymphocytic leukaemia': 4, ' treatment ': 2, 'AstraZeneca ': 8, 'eneca Says Calquence ': 2, ' Calquence Met Primary Endpoint Against Ibrutinib': 2, '$AZN | A': 2, 'Calquence approved in Japan for ': 2, 'ymphocytic ': 14, 'Calquence met primary e': 2, ' Chronic Lymphocytic Leuk': 4, ' CALQUENCE': 10, ': Comparing acalabrutinib to standard treatments in patients with chroni': 2, 'Acalabrutinib: a highly selective, potent Bruton tyrosine kinase inhibitor for the treatment of chronic lymphocytic leukemia. ': 2, ' patients with chroni': 11, 'Acalabrutinib Market ': 2, 'r adult patients with chronic lymphocytic leukemia (CLL)': 3, ' chronic lymphocytic leukemia (CLL)': 3, ' chronic lymphocytic leukemia (CLL) ': 4, ' chronic lymphocytic leukemia ': 3, 'Rituximab, Acalabrutinib, and Durvalumab (RAD) in Primary CNS Lymphoma.': 2, 'acalabrutinib in': 19, ' and ': 8, 'ments ': 7, '#ASH20 ': 6, 't a median follow-up of 25.9 months': 2, 'drug, Calquence': 3, 'アストラゼネカのアカラブルチニブ（Calquence®）、4つの試験データによって、慢性リンパ性白血病の患者さんの心血': 3, '）、4つの試験データによって、慢性リンパ性白血病の患者さんの心血': 2, ' CALQUENCE for a': 9, ' Calquence': 8, ' COVID-19': 8, ' solidarity trial ng therapeutic': 2, 'ation ': 2, 'Acalabrutinib, hindi na gagamitin sa WHO solidarity trial ng therapeutic': 2, ' sa WHO solidarity trial ': 2, 'ancer drug na Acalabrutinib': 2, 'olidarity ': 2, ' chronic lymphocy': 26, ' cardiovascular e': 2, ' CALQUENCE ': 4, 's an oral, 2x a day ': 2, 'CALQUENCE': 70, 'calabrutinib in ': 10, ' treatment option for adult': 7, ' Learn more about the demonstrated safety and tolerability profile of CALQUENCE.': 3, ' at this year’s virtual conference!': 2, ' 2x a day capsule': 2, ' #ASH20': 7, 'Acalabrutinib in ': 18, 'Acalabrutinib Demonstrates Low Cardiac Risk in Chronic Lymphocytic Leukemia ': 2, \"AstraZeneca's Calquence\": 26, 'Calquence for chronic lymphocytic ': 2, ' chronic lymphocytic ': 2, 'NICE recommendation': 2, ' chronic lymphocytic leukaemia ': 12, 'Pooled Analysis of 4 Clinical Trials Reflects Low Cardiac Risk With Acalabrutinib in': 2, ' Chronic Lymphocytic Leukemia ': 9, ' in Patients With Chronic Lymphocytic Leukemia ': 4, 'Cardiovascular ': 2, 'ardiovascular ': 3, \"ASH: AstraZeneca's Calquence, BeiGene's Brukinsa t\": 2, 's Long-Term Efficacy and Tolerability ': 16, ' trial': 2, \": AstraZeneca's Calquence, BeiGene's Brukinsa t\": 2, 'CALQUENCE Data Across Four Trials Reinforces Cardiovascular Safety Profile in Patients With Chronic Lymphocytic Leukemia ': 3, ' Patients With ': 14, 'Calquence shows long-term efficacy and tolerability in MCL': 2, ' in Patients ': 6, 'emia (CLL), ': 2, 'CORRECTING and REPLACING\\xa0CALQUENCE Shows Long-Term Efficacy and Tolerability at Three Years for Patients With Relapsed or Refractory Mantle Cell': 3, 'ith Calquence ': 2, '$AZN CORRECTING and REPLACING\\xa0CALQUENCE Shows Long-Term Efficacy and Tolerability at Three Years for Patients With Relapsed or Refractory Mantle Cell Lymphoma': 2, 'CALQUENCE Shows Long-Term Efficacy and Tolerability at Three Years for Patients With Relapsed or Refractory Mantle ': 2, ' with chronic lymphocytic leuk': 5, 'einforces C': 2, ' trials reinforces ': 2, \" AstraZeneca's Calquence\": 7, ' efficacy and ': 11, \"AstraZeneca's Calquence shows long-term efficacy and tolerability in patients with blood cancer \": 2, 'Calquence shows long-term efficacy and tolerability in ': 3, 'Calquence shows long-term efficacy and tolerability ': 4, ' ACE-LY-004 ': 3, 'y and tolerability ': 12, ' tolerability ': 2, ' heads with new data, putting Imbruvica on ': 2, ' shows long-term efficacy': 3, ' getting ': 2, 'ASH: AstraZeneca': 3, \"ASH: AstraZeneca's Calquence, BeiGene's Brukinsa turn heads with new data, putting Imbruvica on notice\": 3, ': AstraZeneca': 9, 's Brukinsa turn heads with new data, putting Imbruvica on': 2, 'ASH: AstraZeneca’s Calquence, BeiGene’s Brukinsa turn heads with new data, putting Imbruvica on': 2, ' AstraZeneca’s ': 6, \"'s Calquence\": 2, 'olerability at ': 2, 'CALQUENCE Shows Long-Term Efficacy and Tolerability at Three Years for Patients With Relapsed or Refractory Mantle Cell': 8, ' patients with relapsed or refractory mantle cell lymphoma ': 2, 'CALQUENCE Shows Long-Term Efficacy and Tolerability at Three Years for Patients With Relapsed or Refractory Mantle Cell Lymphoma ': 3, 'CALQUENCE Shows Long-Term Efficacy and Tolerability at Three Years for Patients With Relapsed or Refractory Mantle C': 3, 'CALQUENCE Shows Long-Term Efficacy and Tolerability at Three Years for Patients With Relapsed or Refractory Mantle Cell Lymphoma': 2, ' relapsed or refractory mantle cell ': 2, 's for ': 2, 'notherapy ': 2, ' leucemia linfocítica crónica': 6, 'ts with CLL. ': 5, 'Taking CLL medication should be as convenient as an oral, twice a day capsule. If you or someone you love has CLL, you may have options with prescription CALQUENCE for adult patients': 4, 'DOH said the ': 3, 'DOH said the acalabrutinib arm of the WHO-led Solidarity Therapeutics Trial will no longer push through after AstraZeneca’s study showed the anticancer drug did not help reduce deaths and the need for assisted ventilation among hospitalized COVID-19 patients': 2, 'Taking CLL medication should be as convenient as an oral, twice a day capsule. If you or someone you love has CLL, you may have options with prescription ': 12, ' with chronic lymphocyt': 2, ' COVID': 3, 'Comparing acalabrutinib to standard treatments in patients with chronic lymphocyt': 2, ' #Leuk': 3, 'CALQUENCE for a': 2, 'CALQUENCE for adult patients': 4, 'Acalabrutinib in patients with relapsed or refractory chronic lymphocytic leukemia ': 3, 'With CALQUENCE, feel supported all day and night with patient and caregiver resources. CALQUENCE is an oral, 2x a day prescription medication to treat adult patients wit': 2, 'を有する入院患者さんを対象とする': 8, 'COVID-19 ': 4, ' #Leu': 2, '新型コロナウイルス性呼吸器症状を有する入院患者さんを対象とする、アカラブルチニブ（Calquence®）CALAVI第Ⅱ相試験の最': 2, 'Incorporating acalabrutinib, a selective next-generation Bruton tyrosine kinase inhibitor, into clinical practice for the treatment of haematological malignancies. ': 2, ' with respiratory symptoms ': 14, 'Taking CLL medication should be as convenient as an oral, 2x a day capsule, allowing you to focus on the lifestyle you want. ': 12, '#Calquence': 2, '新型コロナウイルス性呼吸器症状を有する入院患者さんを対象とする': 6, '新型コロナウイルス性呼吸器症状を有する入院患者さんを対象とするアカラブルチニブ（Calquence）CALAVI第Ⅱ相試験': 2, '新型コロナウイルス性呼吸器症状を有する入院患者さんを対象とするアカラブルチニブ（Calquence）CALAVI第': 2, 's for Calquence in patients hospitalised with ': 2, ' in Patients Hospitalized ': 2, 'acalabrutinib': 7, '#Acalabrutinib ': 2, 'Update': 4, '）EUにおいて、慢性リンパ性白血病の治療薬として承認取得 ': 4, 'アストラゼネカのアカラブルチニブ（Calquence®）': 2, 'アカラブルチニブ（Calquence®）、EUにおいて慢性リンパ性白血病の治療薬として承認取得': 2, 'アカラブルチニブ（Calquence®）': 3, '. CALQUENCE is a': 2, \"AstraZeneca's Calquence Fails Pair of Phase II COVID-19 Trials \": 4, ' chronic lymphocytic leukemia': 5, 'COVID': 3, \"AstraZeneca's \": 8, 'eucemia linfocítica crónica': 5, ' hospitalised ': 5, 'a Calquence (': 2, 'AstraZeneca cancer drug found ineffective for ': 3, ' COVID-19 ': 3, 'Calquence fails ': 4, 'or Calquence ': 2, ' Calquence (': 2, ' BTK inhibitor ': 6, ' Calquence fails ': 9, ' Calquence Fails ': 3, ' AstraZeneca': 2, '19 roundup: ': 3, ' Calquence i': 3, ' Calquence fail': 5, 's Calquence fails COVID-19 study, joining the list of repurposed meds that have fallen': 2, ' CALAVI Phase II trials for Calquence in patients hospitali': 6, 'a leucemia linfocítica crónica ': 2, ' #COVID19': 17, ' primary endpoint': 2, \"AstraZeneca's Calquence f\": 5, 'Covid-19 ': 3, \" ilacı Calquence'ın koronavirüs tedavisinde etkisiz olduğu \": 2, 'Covid-19 roundup: Political pressures at FDA continue post-election; ': 2, 'ovid19': 2, ' #COVID19. ': 8, ' this ': 2, ' patients ': 2, ' CALAVI Phase II trials for Calquence in patients hospitalised with respiratory symptoms of ': 2, ' cancer drug ': 11, ' CALAVI Phase II trials for Calquence in patients hospitalised with respiratory symptoms of': 2, ' AstraZeneca r': 2, ' Calquence in': 19, \"Covid-19 roundup: AstraZeneca's attempt to repurpose Calquence flops\": 3, ' Update on CALAVI Phase II trials for Calquence in patients hospitalised with respiratory symptoms of COVID-19': 2, \" AstraZeneca's \": 3, ' mid-stage COVID-19 ': 3, 'rials for Calquence in ': 3, ' Announced Calavi Phase Ii Trials for Calquence in Patients Hospitalised With Respiratory Symptoms of Covid-19 Did Not Meet Primary Endpoint\\n': 2, 'ospitalised ': 2, ' patients hospitalized with ': 3, 'ed with respiratory symptoms of C': 2, 'alquence': 14, ' of patients w': 3, 'COVID-19': 12, ' in patients hospitali': 2, ' Calquence in ': 18, 'for the treatment of ': 19, ' for the treatment of #C': 2, ' in Europe for ': 4, ' Chronic Lymphocytic ': 11, 'Calquence approved in the EU for the treatment of patients with chronic lymphocytic leukaemia ': 2, ' with ': 20, 'AstraZeneca’s Calquence (acalabrutinib) Receives EU’s Approval for Chronic Lymphocytic Leukaemia ': 2, ' the ': 8, 'Calquence approved in the EU for the treatment of chronic lymphocytic leukaemia': 4, 'ed in': 3, 'Calquence approved in ': 3, ' approval for ': 2, 'pproved in the E': 2, ' Chronic Lymphocytic Leukaemia': 4, ' for the Treatment of Chronic Lymphocytic Leukaemia\\n': 2, ' Calquence Approved ': 2, ' approved in the EU for the treatment of ': 2, 'or CLL': 2, ' Platinum-Resistant Metastatic Urothelial Ca': 2, ' in chronic lymphocytic ': 5, ' Mantle Cell Lymphoma ': 26, ' Mantle Cell Lymphoma (MCL) in adult patients who have received at least one prior therapy.': 4, ' #acalabrutinib in ': 2, 'R-CHOP': 2, 'BTK inhibitor': 2, 's to n': 2, ' from ': 2, ' #COVID19nCancer ': 2, 'Calquence in India ': 10, '再発または難治性の慢性リンパ性白血病/小リンパ球性リンパ腫': 2, 'ymphoma': 3, 'AstraZeneca Pharma India will launch Calquence in India on Oct 21; stock trades': 2, 'AstraZeneca Pharma India ': 4, 'World Health Organization ': 3, 'ation': 2, 'AstraZeneca Pharma ': 2, ' will launch Calquence in India on October 21': 3, ' launch Calquence in India on October 21': 3, \" 'Calquence' \": 2, 'Also watch out for Persistent which is to acquire US-based CAPIOT Software for $6.34 m &amp; AstraZeneca which is to launch Calquence in India, used for lymphoma treatment': 2, ' launch Calquence in India': 3, 'ASTRAZEN': 2, 'e in ': 3, '@ICMRDELHI': 2, 'ICMR approaches experts panel to approve testing of cancer drug acalabrutinib for Covid': 2, 'BTK阻害薬acalabrutinibは日本人の再発・難治性CLL/SLL、MCLでも忍容性があり有効性示す【日本血液学会2020】': 2, 'ICMR approaches experts panel to approve testing of cancer drug acalabrutinib for Covid treatment': 2, ' to approve testing of ': 6, 'ICMR approaches experts panel to approve testing of cancer drug acalabrutinib for Covid treatment ': 2, 'zumab': 3, 'ICMR approaches experts panel to approve testing of cancer drug ': 2, 'ICMR ': 2, 'ICMR seeks govt panel approval to test cancer drug acalabrutinib in WHO’s Solidarity trial\\n\\n': 3, 'ICMR seeks govt panel approval to test cancer drug acalabrutinib in WHO’s Solidarity trial': 2, '$AZN Phase 2 Acalabrutinib Study With Best Supportive Care Versus Best Supportive Care in Subjects Hospitalized With COVID-19.…NCT043': 2, '$AZN Phase ': 2, 'BTK阻害薬acalabrutinibがCLL/SLLを対象に申請': 5, ' acalabrutinib for patients with blood cancer': 4, 'Trial to test acalabrutinib for patients with blood cancer, COVID-19 ': 2, '2020 ': 4, 'ents ': 14, 'calabrutinib in patients with ': 2, ': Acalabrutinib ': 6, 'zumab ': 2, ' clinical trial': 2, ' of Acalabrutinib ': 2, 'acalabrutinib, i': 2, 'WATCH: ': 3, 'lymphoma (MCL) ': 2, 'LCCC1841: A Phase 2 Trial of Acalabrutinib in Relapsed/Refractory Primary and Secondary CNS Lymphomas': 2, ' Acalabrutinib in ': 5, 'calabrutinib in C': 2, ' @MyUniSR': 2, 'Paolo Ghia, MD, PhD, of @MyUniSR, ': 2, 'calabrutinib in CLL': 2, 'Acalabrutinib Demonstrates Superior PFS Over Standard-0f-Care in Relapsed/Refractory CLL ': 2, ' Over Standard-': 2, 'SOHO2020 ': 3, ', MD, ': 2, ' #SOHO2020 ': 3, ' PBS ': 2, 'in Australian ': 2, 'alquence ': 2, ' and t': 2, 'Cancer': 2, 'acalabrutinib in patients with platinum-resist': 2, 'b in patients with ': 6, 'REtreatment With VEnetoclax and Acalabrutinib After Venetoclax Limited Duration (REVEAL)': 2, ' Pembrolizumab ': 2, 'A new report presents a review of strategies that facilitate AE management and medication adherence among patients receiving acalabrutinib to treat ': 2, 'calabrutinib, ': 2, ' ASCEND': 2, ' in patients with relapsed or refractory chronic lymphocy': 2, ' in patients with ': 2, ' @MDAndersonNews ': 2, 'A randomized phase 2 trial of pembrolizumab versus pembrolizumab and acalabrutinib in patients with platinum': 2, ' #COVID19 ': 2, ' #COVID': 6, 'アストラゼネカのアカラブルチニブ（Calquence）、': 8, 'アストラゼネカのアカラブルチニブ（Calquence）、慢性リンパ性白血病の治療薬として': 5, 'アストラゼネカのアカラブルチニブ（Calquence）、慢性リンパ性白血病の治療薬として欧州医薬品評価委員会より承認': 2, 'Cancer drugs tapped for #COVID19 to dampen #cytokinestorm that occurs in patients with severe COVID-19.': 2, ' in patients with severe COVID-19.': 3, ' COVID-19.': 2}\n"
     ]
    }
   ],
   "source": [
    "#for substring matching          kon si\n",
    "from difflib import SequenceMatcher\n",
    "count=0\n",
    "for i in tweet:\n",
    "    count=count +1\n",
    "    string1 = i\n",
    "    for j in tweet[count: ]:\n",
    "        \n",
    "        string2 = j\n",
    "        const= r\"https://t.co/\"\n",
    "\n",
    "        match = SequenceMatcher(None, string1, string2).find_longest_match()\n",
    "        testt = SequenceMatcher(None, string2[match.b:match.b + match.size], const).find_longest_match()\n",
    "        if testt.size>10:\n",
    "            continue\n",
    "        if match.size >4:\n",
    "            num=num+1\n",
    "            if num==1:\n",
    "                common=string1[match.a:match.a + match.size]\n",
    "                author_name.append(author[tweet.index(j)])\n",
    "                \n",
    "            if common==string1[match.a:match.a + match.size]:\n",
    "                freq=freq+1\n",
    "                author_name.append(author[tweet.index(j)])\n",
    "                \n",
    "    if freq>1:\n",
    "        #freq=str(freq)\n",
    "        match_statement.update({common : freq})\n",
    "    freq=1\n",
    "    num=0\n",
    "    common=[]\n",
    "    #print(i)\n",
    "print((match_statement))\n"
   ]
  },
  {
   "cell_type": "raw",
   "id": "5f30c1b0",
   "metadata": {},
   "source": []
  },
  {
   "cell_type": "raw",
   "id": "a0ea8c48",
   "metadata": {},
   "source": []
  },
  {
   "cell_type": "raw",
   "id": "7860517e",
   "metadata": {},
   "source": []
  },
  {
   "cell_type": "code",
   "execution_count": 5,
   "id": "51214179",
   "metadata": {},
   "outputs": [
    {
     "ename": "UnicodeEncodeError",
     "evalue": "'charmap' codec can't encode characters in position 0-16: character maps to <undefined>",
     "output_type": "error",
     "traceback": [
      "\u001b[1;31m---------------------------------------------------------------------------\u001b[0m",
      "\u001b[1;31mUnicodeEncodeError\u001b[0m                        Traceback (most recent call last)",
      "Input \u001b[1;32mIn [5]\u001b[0m, in \u001b[0;36m<cell line: 10>\u001b[1;34m()\u001b[0m\n\u001b[0;32m      5\u001b[0m stuff \u001b[38;5;241m=\u001b[39m \u001b[38;5;28mzip\u001b[39m(match_statement\u001b[38;5;241m.\u001b[39mkeys(),match_statement\u001b[38;5;241m.\u001b[39mvalues())\n\u001b[0;32m      6\u001b[0m \u001b[38;5;66;03m#for key, value in stuff:\u001b[39;00m\n\u001b[0;32m      7\u001b[0m    \u001b[38;5;66;03m# key=key.encode().decode()\u001b[39;00m\n\u001b[1;32m---> 10\u001b[0m \u001b[43mwriter\u001b[49m\u001b[38;5;241;43m.\u001b[39;49m\u001b[43mwriterows\u001b[49m\u001b[43m(\u001b[49m\u001b[43mstuff\u001b[49m\u001b[43m)\u001b[49m\n\u001b[0;32m     13\u001b[0m a_file\u001b[38;5;241m.\u001b[39mclose()\n\u001b[0;32m     15\u001b[0m SAMPLE\u001b[38;5;241m.\u001b[39mCSV\n",
      "File \u001b[1;32mC:\\ProgramData\\Anaconda3\\lib\\encodings\\cp1252.py:19\u001b[0m, in \u001b[0;36mIncrementalEncoder.encode\u001b[1;34m(self, input, final)\u001b[0m\n\u001b[0;32m     18\u001b[0m \u001b[38;5;28;01mdef\u001b[39;00m \u001b[38;5;21mencode\u001b[39m(\u001b[38;5;28mself\u001b[39m, \u001b[38;5;28minput\u001b[39m, final\u001b[38;5;241m=\u001b[39m\u001b[38;5;28;01mFalse\u001b[39;00m):\n\u001b[1;32m---> 19\u001b[0m     \u001b[38;5;28;01mreturn\u001b[39;00m \u001b[43mcodecs\u001b[49m\u001b[38;5;241;43m.\u001b[39;49m\u001b[43mcharmap_encode\u001b[49m\u001b[43m(\u001b[49m\u001b[38;5;28;43minput\u001b[39;49m\u001b[43m,\u001b[49m\u001b[38;5;28;43mself\u001b[39;49m\u001b[38;5;241;43m.\u001b[39;49m\u001b[43merrors\u001b[49m\u001b[43m,\u001b[49m\u001b[43mencoding_table\u001b[49m\u001b[43m)\u001b[49m[\u001b[38;5;241m0\u001b[39m]\n",
      "\u001b[1;31mUnicodeEncodeError\u001b[0m: 'charmap' codec can't encode characters in position 0-16: character maps to <undefined>"
     ]
    }
   ],
   "source": [
    "a_file = open(\"sample.csv\", \"w\")\n",
    "\n",
    "import csv\n",
    "writer = csv.writer(a_file)\n",
    "stuff = zip(match_statement.keys(),match_statement.values())\n",
    "#for key, value in stuff:\n",
    "   # key=key.encode().decode()\n",
    "    \n",
    "\n",
    "writer.writerows(stuff)\n",
    "    \n",
    "\n",
    "a_file.close()\n",
    "\n",
    "SAMPLE.CSV"
   ]
  },
  {
   "cell_type": "code",
   "execution_count": null,
   "id": "4d8753ca",
   "metadata": {},
   "outputs": [],
   "source": [
    "len(match_statement)"
   ]
  },
  {
   "cell_type": "code",
   "execution_count": 6,
   "id": "933c3e4f",
   "metadata": {},
   "outputs": [
    {
     "ename": "UnicodeEncodeError",
     "evalue": "'charmap' codec can't encode characters in position 0-16: character maps to <undefined>",
     "output_type": "error",
     "traceback": [
      "\u001b[1;31m---------------------------------------------------------------------------\u001b[0m",
      "\u001b[1;31mUnicodeEncodeError\u001b[0m                        Traceback (most recent call last)",
      "Input \u001b[1;32mIn [6]\u001b[0m, in \u001b[0;36m<cell line: 6>\u001b[1;34m()\u001b[0m\n\u001b[0;32m      6\u001b[0m \u001b[38;5;28;01mfor\u001b[39;00m key,value \u001b[38;5;129;01min\u001b[39;00m match_statement\u001b[38;5;241m.\u001b[39mitems():\n\u001b[0;32m      7\u001b[0m     key\u001b[38;5;241m=\u001b[39mkey\u001b[38;5;241m.\u001b[39mencode(\u001b[38;5;124m'\u001b[39m\u001b[38;5;124mutf-8\u001b[39m\u001b[38;5;124m'\u001b[39m,\u001b[38;5;124m'\u001b[39m\u001b[38;5;124mignore\u001b[39m\u001b[38;5;124m'\u001b[39m)\u001b[38;5;241m.\u001b[39mdecode()\n\u001b[1;32m----> 8\u001b[0m     \u001b[43mwriter\u001b[49m\u001b[38;5;241;43m.\u001b[39;49m\u001b[43mwriterow\u001b[49m\u001b[43m(\u001b[49m\u001b[43m[\u001b[49m\u001b[43mkey\u001b[49m\u001b[43m,\u001b[49m\u001b[43m \u001b[49m\u001b[43mvalue\u001b[49m\u001b[43m]\u001b[49m\u001b[43m,\u001b[49m\u001b[43m)\u001b[49m\n\u001b[0;32m     10\u001b[0m a_file\u001b[38;5;241m.\u001b[39mclose()\n\u001b[0;32m     12\u001b[0m SAMPLE\u001b[38;5;241m.\u001b[39mCSV\n",
      "File \u001b[1;32mC:\\ProgramData\\Anaconda3\\lib\\encodings\\cp1252.py:19\u001b[0m, in \u001b[0;36mIncrementalEncoder.encode\u001b[1;34m(self, input, final)\u001b[0m\n\u001b[0;32m     18\u001b[0m \u001b[38;5;28;01mdef\u001b[39;00m \u001b[38;5;21mencode\u001b[39m(\u001b[38;5;28mself\u001b[39m, \u001b[38;5;28minput\u001b[39m, final\u001b[38;5;241m=\u001b[39m\u001b[38;5;28;01mFalse\u001b[39;00m):\n\u001b[1;32m---> 19\u001b[0m     \u001b[38;5;28;01mreturn\u001b[39;00m \u001b[43mcodecs\u001b[49m\u001b[38;5;241;43m.\u001b[39;49m\u001b[43mcharmap_encode\u001b[49m\u001b[43m(\u001b[49m\u001b[38;5;28;43minput\u001b[39;49m\u001b[43m,\u001b[49m\u001b[38;5;28;43mself\u001b[39;49m\u001b[38;5;241;43m.\u001b[39;49m\u001b[43merrors\u001b[49m\u001b[43m,\u001b[49m\u001b[43mencoding_table\u001b[49m\u001b[43m)\u001b[49m[\u001b[38;5;241m0\u001b[39m]\n",
      "\u001b[1;31mUnicodeEncodeError\u001b[0m: 'charmap' codec can't encode characters in position 0-16: character maps to <undefined>"
     ]
    }
   ],
   "source": [
    "a_file = open(\"sample.csv\", \"w\")\n",
    "\n",
    "import csv\n",
    "writer = csv.writer(a_file)\n",
    "\n",
    "for key,value in match_statement.items():\n",
    "    key=key.encode('utf-8','ignore').decode()\n",
    "    writer.writerow([key, value],)\n",
    "\n",
    "a_file.close()\n",
    "\n",
    "SAMPLE.CSV"
   ]
  }
 ],
 "metadata": {
  "kernelspec": {
   "display_name": "Python 3 (ipykernel)",
   "language": "python",
   "name": "python3"
  },
  "language_info": {
   "codemirror_mode": {
    "name": "ipython",
    "version": 3
   },
   "file_extension": ".py",
   "mimetype": "text/x-python",
   "name": "python",
   "nbconvert_exporter": "python",
   "pygments_lexer": "ipython3",
   "version": "3.9.12"
  }
 },
 "nbformat": 4,
 "nbformat_minor": 5
}
